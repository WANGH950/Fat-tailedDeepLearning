{
 "cells": [
  {
   "cell_type": "markdown",
   "metadata": {},
   "source": [
    "# An example of a 1-dimensional problem"
   ]
  },
  {
   "cell_type": "code",
   "execution_count": 1,
   "metadata": {},
   "outputs": [],
   "source": [
    "import torch\n",
    "import bsde\n",
    "import warnings\n",
    "warnings.filterwarnings(\"ignore\")\n",
    "device = torch.device(\"cuda:0\" if torch.cuda.is_available() else \"cpu\")"
   ]
  },
  {
   "cell_type": "code",
   "execution_count": 2,
   "metadata": {},
   "outputs": [],
   "source": [
    "def g(x):\n",
    "    return x\n",
    "\n",
    "def f(u):\n",
    "    return 0\n",
    "\n",
    "def mu(x,t):\n",
    "    return 0\n",
    "\n",
    "params_mc = {\n",
    "    'epoch': 2*10**4,\n",
    "    'batch': 256,\n",
    "    'sample_size': 10**2,\n",
    "    'lr': 5*1e-4,\n",
    "    'step_size': 5*10**3,\n",
    "    'gamma': 0.5,\n",
    "    'x': torch.tensor([[1.]],device=device)\n",
    "}\n",
    "\n",
    "params_tensor = {\n",
    "    'epoch': 2*10**4,\n",
    "    'batch': 256,\n",
    "    'sample_size': 10**4,\n",
    "    'lr': 5*1e-4,\n",
    "    'step_size': 5*10**3,\n",
    "    'gamma': 0.5,\n",
    "    'x': torch.tensor([[1.]],device=device)\n",
    "}\n",
    "\n",
    "bsde_mc = bsde.BSDE(\n",
    "    N = 100,\n",
    "    d = 1,\n",
    "    T = 1,\n",
    "    beta = 1.5,\n",
    "    r = 0.1,\n",
    "    mu = mu,\n",
    "    g = g,\n",
    "    f = f,\n",
    "    hidden_dim = 128,\n",
    "    num_layers = 3\n",
    ").to(device)\n",
    "\n",
    "bsde_tensor = bsde.BSDETensor(\n",
    "    N = 100,\n",
    "    d = 1,\n",
    "    T = 1,\n",
    "    beta = 1.5,\n",
    "    r = 0.1,\n",
    "    mu = mu,\n",
    "    g = g,\n",
    "    f = f,\n",
    "    tensor_size = 128,\n",
    "    hidden_dim = 128,\n",
    "    num_layers = 3\n",
    ").to(device)"
   ]
  },
  {
   "cell_type": "code",
   "execution_count": 3,
   "metadata": {},
   "outputs": [
    {
     "name": "stdout",
     "output_type": "stream",
     "text": [
      "20000/20000|##################################################|30396.64s  [Loss: 3.230570e-01, result: 0.991464] \n",
      "Training has been completed.\n"
     ]
    }
   ],
   "source": [
    "loss_values, res_values = bsde.train(\n",
    "    bsde_mc,\n",
    "    params_mc\n",
    ")"
   ]
  },
  {
   "cell_type": "code",
   "execution_count": 4,
   "metadata": {},
   "outputs": [
    {
     "name": "stdout",
     "output_type": "stream",
     "text": [
      "20000/20000|##################################################|21115.88s  [Loss: 4.025052e-03, result: 0.999174] \n",
      "Training has been completed.\n"
     ]
    }
   ],
   "source": [
    "loss_values_tensor, res_values_tensor = bsde.train(\n",
    "    bsde_tensor,\n",
    "    params_tensor\n",
    ")"
   ]
  }
 ],
 "metadata": {
  "kernelspec": {
   "display_name": "torchgpu",
   "language": "python",
   "name": "python3"
  },
  "language_info": {
   "codemirror_mode": {
    "name": "ipython",
    "version": 3
   },
   "file_extension": ".py",
   "mimetype": "text/x-python",
   "name": "python",
   "nbconvert_exporter": "python",
   "pygments_lexer": "ipython3",
   "version": "3.9.0"
  }
 },
 "nbformat": 4,
 "nbformat_minor": 2
}
